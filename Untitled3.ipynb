{
  "nbformat": 4,
  "nbformat_minor": 0,
  "metadata": {
    "colab": {
      "name": "Untitled3.ipynb",
      "provenance": [],
      "authorship_tag": "ABX9TyNVY/7YbhHTr59hV0qpsf55",
      "include_colab_link": true
    },
    "kernelspec": {
      "name": "python3",
      "display_name": "Python 3"
    }
  },
  "cells": [
    {
      "cell_type": "markdown",
      "metadata": {
        "id": "view-in-github",
        "colab_type": "text"
      },
      "source": [
        "<a href=\"https://colab.research.google.com/github/Anyamittal/HackX_Team-4/blob/master/Untitled3.ipynb\" target=\"_parent\"><img src=\"https://colab.research.google.com/assets/colab-badge.svg\" alt=\"Open In Colab\"/></a>"
      ]
    },
    {
      "cell_type": "code",
      "metadata": {
        "id": "npBK3T0PzPAp",
        "colab_type": "code",
        "colab": {
          "base_uri": "https://localhost:8080/",
          "height": 52
        },
        "outputId": "7f824f9e-3baa-42b0-9374-17e0443c09b5"
      },
      "source": [
        "def user_input():\n",
        "    \"\"\"Get the user input for a phrase\"\"\"\n",
        "    return input(\"Enter the phrase: \")\n",
        "\n",
        "def acronym(words):\n",
        "    \"\"\"Turn a list of words into an acronym\"\"\"\n",
        "    return \"\".join(word[0] for word in words).upper()\n",
        "\n",
        "def main():\n",
        "    words = user_input().split()\n",
        "    print(f\"The acronym for your phrase is {acronym(words)}.\")\n",
        "\n",
        "if __name__ == \"__main__\":\n",
        "    main()"
      ],
      "execution_count": 1,
      "outputs": [
        {
          "output_type": "stream",
          "text": [
            "Enter the phrase: Random access memory\n",
            "The acronym for your phrase is RAM.\n"
          ],
          "name": "stdout"
        }
      ]
    }
  ]
}