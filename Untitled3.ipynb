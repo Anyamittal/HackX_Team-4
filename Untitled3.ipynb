{
  "nbformat": 4,
  "nbformat_minor": 0,
  "metadata": {
    "colab": {
      "name": "Untitled3.ipynb",
      "provenance": [],
      "authorship_tag": "ABX9TyNVY/7YbhHTr59hV0qpsf55",
      "include_colab_link": true
    },
    "kernelspec": {
      "name": "python3",
      "display_name": "Python 3"
    }
  },
  "cells": [
    {
      "cell_type": "markdown",
      "metadata": {
        "id": "view-in-github",
        "colab_type": "text"
      },
      "source": [
        "<a href=\"https://colab.research.google.com/github/Anyamittal/HackX_Team-4/blob/master/Untitled3.ipynb\" target=\"_parent\"><img src=\"https://colab.research.google.com/assets/colab-badge.svg\" alt=\"Open In Colab\"/></a>"
      ]
    },
    {
      "cell_type": "code",
      "metadata": {
        "id": "npBK3T0PzPAp",
        "colab_type": "code",
        "colab": {}
      },
      "source": [
        "def user_input():\n",
        "    \"\"\"Get the user input for a phrase\"\"\"\n",
        "    return input(\"Enter the phrase: \")\n",
        "\n",
        "def acronym(words):\n",
        "    \"\"\"Turn a list of words into an acronym\"\"\"\n",
        "    return \"\".join(word[0] for word in words).upper()\n",
        "\n",
        "def main():\n",
        "    words = user_input().split()\n",
        "    print(f\"The acronym for your phrase is {acronym(words)}.\")\n",
        "\n",
        "if __name__ == \"__main__\":\n",
        "    main()"
      ],
      "execution_count": 0,
      "outputs": []
    }
  ]
}